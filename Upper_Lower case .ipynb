{
 "cells": [
  {
   "cell_type": "code",
   "execution_count": 1,
   "id": "75688ae6",
   "metadata": {},
   "outputs": [
    {
     "name": "stdout",
     "output_type": "stream",
     "text": [
      "original string The quick Brow Fox\n",
      "Number of upper case alphabets: 1\n",
      "Number of lower case alphabets: 0\n",
      "original string The quick Brow Fox\n",
      "Number of upper case alphabets: 1\n",
      "Number of lower case alphabets: 1\n",
      "original string The quick Brow Fox\n",
      "Number of upper case alphabets: 1\n",
      "Number of lower case alphabets: 2\n",
      "original string The quick Brow Fox\n",
      "Number of upper case alphabets: 1\n",
      "Number of lower case alphabets: 2\n",
      "original string The quick Brow Fox\n",
      "Number of upper case alphabets: 1\n",
      "Number of lower case alphabets: 3\n",
      "original string The quick Brow Fox\n",
      "Number of upper case alphabets: 1\n",
      "Number of lower case alphabets: 4\n",
      "original string The quick Brow Fox\n",
      "Number of upper case alphabets: 1\n",
      "Number of lower case alphabets: 5\n",
      "original string The quick Brow Fox\n",
      "Number of upper case alphabets: 1\n",
      "Number of lower case alphabets: 6\n",
      "original string The quick Brow Fox\n",
      "Number of upper case alphabets: 1\n",
      "Number of lower case alphabets: 7\n",
      "original string The quick Brow Fox\n",
      "Number of upper case alphabets: 1\n",
      "Number of lower case alphabets: 7\n",
      "original string The quick Brow Fox\n",
      "Number of upper case alphabets: 2\n",
      "Number of lower case alphabets: 7\n",
      "original string The quick Brow Fox\n",
      "Number of upper case alphabets: 2\n",
      "Number of lower case alphabets: 8\n",
      "original string The quick Brow Fox\n",
      "Number of upper case alphabets: 2\n",
      "Number of lower case alphabets: 9\n",
      "original string The quick Brow Fox\n",
      "Number of upper case alphabets: 2\n",
      "Number of lower case alphabets: 10\n",
      "original string The quick Brow Fox\n",
      "Number of upper case alphabets: 2\n",
      "Number of lower case alphabets: 10\n",
      "original string The quick Brow Fox\n",
      "Number of upper case alphabets: 3\n",
      "Number of lower case alphabets: 10\n",
      "original string The quick Brow Fox\n",
      "Number of upper case alphabets: 3\n",
      "Number of lower case alphabets: 11\n",
      "original string The quick Brow Fox\n",
      "Number of upper case alphabets: 3\n",
      "Number of lower case alphabets: 12\n"
     ]
    }
   ],
   "source": [
    "def string_test(s):\n",
    "    d={\"UPPER_CASE\":0, \"LOWER_CASE\":0}\n",
    "    for c in s:\n",
    "        if c.isupper():\n",
    "            d[\"UPPER_CASE\"]+=1\n",
    "        elif c.islower():\n",
    "            d[\"LOWER_CASE\"]+=1\n",
    "        else:\n",
    "            pass\n",
    "        print(f\"original string\",s)\n",
    "        print(\"Number of upper case alphabets:\",d[\"UPPER_CASE\"])\n",
    "        print(\"Number of lower case alphabets:\",d[\"LOWER_CASE\"])\n",
    "string_test(\"The quick Brow Fox\")"
   ]
  },
  {
   "cell_type": "code",
   "execution_count": null,
   "id": "20ba5c04",
   "metadata": {},
   "outputs": [],
   "source": []
  }
 ],
 "metadata": {
  "kernelspec": {
   "display_name": "Python 3",
   "language": "python",
   "name": "python3"
  },
  "language_info": {
   "codemirror_mode": {
    "name": "ipython",
    "version": 3
   },
   "file_extension": ".py",
   "mimetype": "text/x-python",
   "name": "python",
   "nbconvert_exporter": "python",
   "pygments_lexer": "ipython3",
   "version": "3.8.8"
  }
 },
 "nbformat": 4,
 "nbformat_minor": 5
}
